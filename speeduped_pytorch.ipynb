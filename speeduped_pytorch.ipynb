{
 "cells": [
  {
   "cell_type": "code",
   "execution_count": 20,
   "metadata": {},
   "outputs": [],
   "source": [
    "import os\n",
    "import torch\n",
    "import cv2\n",
    "\n",
    "from torch.utils.data import Dataset, DataLoader\n",
    "\n",
    "\n",
    "from data import BaseTransform\n",
    "from ssd import build_ssd\n",
    "\n",
    "from data import VOC_CLASSES\n",
    "labelmap = VOC_CLASSES\n",
    "\n",
    "use_cuda = True\n",
    "batch_size = 20\n",
    "\n",
    "'''\n",
    "if use_cuda and torch.cuda.is_available():\n",
    "    torch.set_default_tensor_type('torch.cuda.FloatTensor')\n",
    "else:\n",
    "    torch.set_default_tensor_type('torch.FloatTensor')\n",
    "'''\n",
    "    \n",
    "def load_net(cache_path):\n",
    "    num_classes = len(VOC_CLASSES) + 1 # +1 background\n",
    "    net = build_ssd('test', 300, num_classes) # initialize SSD\n",
    "    net.load_state_dict(torch.load(cache_path))\n",
    "    net.eval()\n",
    "    return net\n",
    "\n",
    "\n",
    "class SimpleDataset(Dataset):\n",
    "    def __init__(self, root, transform):\n",
    "        self.root = root\n",
    "        self.listdir = os.listdir(self.root)\n",
    "        #self.set_listdir = set(self.listdir)\n",
    "        self.transform = transform\n",
    "    def __len__(self):\n",
    "        return len(self.listdir)\n",
    "    def __getitem__(self, idx):\n",
    "        path = os.path.join(self.root, self.listdir[idx])\n",
    "        img = cv2.imread(path, cv2.IMREAD_COLOR)\n",
    "        x = torch.from_numpy(self.transform(img)[0]).permute(2, 0, 1)\n",
    "        #scale = torch.Tensor([img.shape[1], img.shape[0],\n",
    "        #             img.shape[1], img.shape[0]])\n",
    "        return x#, scale"
   ]
  },
  {
   "cell_type": "code",
   "execution_count": 2,
   "metadata": {},
   "outputs": [],
   "source": [
    "torch.set_default_tensor_type('torch.FloatTensor')"
   ]
  },
  {
   "cell_type": "code",
   "execution_count": 3,
   "metadata": {},
   "outputs": [],
   "source": [
    "net = load_net('weights/ssd300_COCO_6000.pth')\n",
    "net.eval()\n",
    "base_transform = BaseTransform(net.size, (104, 117, 123))"
   ]
  },
  {
   "cell_type": "code",
   "execution_count": 4,
   "metadata": {},
   "outputs": [],
   "source": [
    "dataset = SimpleDataset('images_mini', base_transform)\n",
    "dataloader = DataLoader(dataset, batch_size, shuffle = False, pin_memory=False)"
   ]
  },
  {
   "cell_type": "markdown",
   "metadata": {},
   "source": [
    "先测纯cpu"
   ]
  },
  {
   "cell_type": "code",
   "execution_count": 5,
   "metadata": {},
   "outputs": [],
   "source": [
    "#net.cpu();"
   ]
  },
  {
   "cell_type": "code",
   "execution_count": 6,
   "metadata": {},
   "outputs": [
    {
     "name": "stdout",
     "output_type": "stream",
     "text": [
      "Wall time: 58.5 s\n"
     ]
    }
   ],
   "source": [
    "%%time\n",
    "for batch in dataloader:\n",
    "    with torch.no_grad():\n",
    "        y = net(batch)"
   ]
  },
  {
   "cell_type": "code",
   "execution_count": 21,
   "metadata": {},
   "outputs": [],
   "source": [
    "torch.set_default_tensor_type('torch.cuda.FloatTensor')"
   ]
  },
  {
   "cell_type": "code",
   "execution_count": 22,
   "metadata": {},
   "outputs": [],
   "source": [
    "net = load_net('weights/ssd300_COCO_6000.pth')\n",
    "net.eval()\n",
    "base_transform = BaseTransform(net.size, (104, 117, 123))"
   ]
  },
  {
   "cell_type": "code",
   "execution_count": 23,
   "metadata": {},
   "outputs": [],
   "source": [
    "dataset = SimpleDataset('images_mini', base_transform)\n",
    "dataloader = DataLoader(dataset, batch_size, shuffle = False, pin_memory=False)"
   ]
  },
  {
   "cell_type": "code",
   "execution_count": 24,
   "metadata": {},
   "outputs": [
    {
     "name": "stdout",
     "output_type": "stream",
     "text": [
      "Wall time: 26.2 s\n"
     ]
    }
   ],
   "source": [
    "%%time\n",
    "for batch in dataloader:\n",
    "    batch = batch.cuda()\n",
    "    with torch.no_grad():\n",
    "        y = net(batch)"
   ]
  },
  {
   "cell_type": "code",
   "execution_count": 11,
   "metadata": {},
   "outputs": [],
   "source": [
    "dataset = SimpleDataset('images_mini', base_transform)\n",
    "dataloader = DataLoader(dataset, batch_size, shuffle = False, pin_memory=True)"
   ]
  },
  {
   "cell_type": "code",
   "execution_count": 12,
   "metadata": {},
   "outputs": [
    {
     "name": "stdout",
     "output_type": "stream",
     "text": [
      "Wall time: 24.3 s\n"
     ]
    }
   ],
   "source": [
    "%%time\n",
    "for batch in dataloader:\n",
    "    batch = batch.cuda()\n",
    "    with torch.no_grad():\n",
    "        y = net(batch)"
   ]
  },
  {
   "cell_type": "markdown",
   "metadata": {},
   "source": [
    "本来应该快很多的，这不够快显然说明大量时间浪费在运算以外的事了。"
   ]
  },
  {
   "cell_type": "code",
   "execution_count": 13,
   "metadata": {},
   "outputs": [],
   "source": [
    "dataset = SimpleDataset('images_mini', base_transform)\n",
    "dataloader = DataLoader(dataset, batch_size, shuffle = False, pin_memory=True)"
   ]
  },
  {
   "cell_type": "code",
   "execution_count": 14,
   "metadata": {},
   "outputs": [],
   "source": [
    "class data_prefetcher():\n",
    "    def __init__(self, loader):\n",
    "        self.loader = iter(loader)\n",
    "        self.stream = torch.cuda.Stream()\n",
    "        #self.mean = torch.tensor([0.485 * 255, 0.456 * 255, 0.406 * 255]).cuda().view(1,3,1,1)\n",
    "        #self.std = torch.tensor([0.229 * 255, 0.224 * 255, 0.225 * 255]).cuda().view(1,3,1,1)\n",
    "        self.preload()\n",
    "\n",
    "    def preload(self):\n",
    "        try:\n",
    "            #self.next_input, self.next_target = next(self.loader)\n",
    "            self.next_input = next(self.loader)\n",
    "        except StopIteration:\n",
    "            self.next_input = None\n",
    "            #self.next_target = None\n",
    "            return\n",
    "        with torch.cuda.stream(self.stream):\n",
    "            self.next_input = self.next_input.cuda(non_blocking=True)\n",
    "            #self.next_target = self.next_target.cuda(non_blocking=True)\n",
    "            self.next_input = self.next_input.float()\n",
    "            #self.next_input = self.next_input.sub_(self.mean).div_(self.std)\n",
    "            \n",
    "    def next(self):\n",
    "        torch.cuda.current_stream().wait_stream(self.stream)\n",
    "        input = self.next_input\n",
    "        #target = self.next_target\n",
    "        self.preload()\n",
    "        return input#, target"
   ]
  },
  {
   "cell_type": "code",
   "execution_count": 15,
   "metadata": {},
   "outputs": [],
   "source": [
    "prefetcher = data_prefetcher(dataloader)"
   ]
  },
  {
   "cell_type": "code",
   "execution_count": 16,
   "metadata": {},
   "outputs": [
    {
     "name": "stdout",
     "output_type": "stream",
     "text": [
      "Wall time: 24.2 s\n"
     ]
    }
   ],
   "source": [
    "%%time\n",
    "batch = prefetcher.next()\n",
    "\n",
    "while batch is not None:\n",
    "    #batch = batch.cuda()\n",
    "    with torch.no_grad():\n",
    "        y = net(batch)\n",
    "    batch = prefetcher.next()"
   ]
  },
  {
   "cell_type": "code",
   "execution_count": 17,
   "metadata": {},
   "outputs": [
    {
     "name": "stdout",
     "output_type": "stream",
     "text": [
      "Wall time: 24.5 s\n"
     ]
    }
   ],
   "source": [
    "%%time\n",
    "\n",
    "prefetcher = data_prefetcher(dataloader)\n",
    "batch = prefetcher.next()\n",
    "\n",
    "while batch is not None:\n",
    "    #batch = batch.cuda()\n",
    "    with torch.no_grad():\n",
    "        y = net(batch)\n",
    "    batch = prefetcher.next()"
   ]
  },
  {
   "cell_type": "markdown",
   "metadata": {},
   "source": [
    "EMMM...这并没有快到哪去。。"
   ]
  },
  {
   "cell_type": "code",
   "execution_count": 18,
   "metadata": {},
   "outputs": [
    {
     "name": "stdout",
     "output_type": "stream",
     "text": [
      "Wall time: 9.36 s\n"
     ]
    }
   ],
   "source": [
    "%%time\n",
    "\n",
    "prefetcher = data_prefetcher(dataloader)\n",
    "batch = prefetcher.next()\n",
    "while batch is not None:\n",
    "    #batch = batch.cuda()\n",
    "    #with torch.no_grad():\n",
    "    #    y = net(batch)\n",
    "    batch = prefetcher.next()"
   ]
  },
  {
   "cell_type": "code",
   "execution_count": 19,
   "metadata": {},
   "outputs": [
    {
     "name": "stdout",
     "output_type": "stream",
     "text": [
      "Wall time: 9.56 s\n"
     ]
    }
   ],
   "source": [
    "%%time\n",
    "\n",
    "prefetcher = data_prefetcher(dataloader)\n",
    "batch = prefetcher.next()\n",
    "while batch is not None:\n",
    "    #batch = batch.cuda()\n",
    "    #with torch.no_grad():\n",
    "    #    y = net(batch)\n",
    "    batch = prefetcher.next()"
   ]
  },
  {
   "cell_type": "code",
   "execution_count": 20,
   "metadata": {},
   "outputs": [
    {
     "name": "stdout",
     "output_type": "stream",
     "text": [
      "Wall time: 9.47 s\n"
     ]
    }
   ],
   "source": [
    "%%time\n",
    "for batch in dataloader:\n",
    "    batch = batch.cuda()\n",
    "    #with torch.no_grad():\n",
    "    #    y = net(batch)"
   ]
  },
  {
   "cell_type": "code",
   "execution_count": 1,
   "metadata": {},
   "outputs": [],
   "source": [
    "import torch"
   ]
  },
  {
   "cell_type": "code",
   "execution_count": 2,
   "metadata": {},
   "outputs": [
    {
     "data": {
      "text/plain": [
       "True"
      ]
     },
     "execution_count": 2,
     "metadata": {},
     "output_type": "execute_result"
    }
   ],
   "source": [
    "torch.cuda.is_available()"
   ]
  },
  {
   "cell_type": "code",
   "execution_count": 3,
   "metadata": {},
   "outputs": [
    {
     "data": {
      "text/plain": [
       "1"
      ]
     },
     "execution_count": 3,
     "metadata": {},
     "output_type": "execute_result"
    }
   ],
   "source": [
    "torch.cuda.device_count()"
   ]
  },
  {
   "cell_type": "code",
   "execution_count": 4,
   "metadata": {},
   "outputs": [],
   "source": [
    "torch.set_default_tensor_type('torch.cuda.FloatTensor')"
   ]
  },
  {
   "cell_type": "code",
   "execution_count": 25,
   "metadata": {},
   "outputs": [],
   "source": [
    "A = torch.randn(int(2e8))"
   ]
  },
  {
   "cell_type": "code",
   "execution_count": 26,
   "metadata": {},
   "outputs": [],
   "source": [
    "B = torch.randn(int(2e8))"
   ]
  },
  {
   "cell_type": "code",
   "execution_count": 13,
   "metadata": {},
   "outputs": [],
   "source": [
    "with torch.no_grad():\n",
    "    C = A * B"
   ]
  },
  {
   "cell_type": "code",
   "execution_count": 30,
   "metadata": {},
   "outputs": [
    {
     "name": "stdout",
     "output_type": "stream",
     "text": [
      "Wall time: 4.74 s\n"
     ]
    }
   ],
   "source": [
    "%%time\n",
    "for i in range(2000):\n",
    "    with torch.no_grad():\n",
    "        C = A * B"
   ]
  },
  {
   "cell_type": "code",
   "execution_count": 31,
   "metadata": {},
   "outputs": [],
   "source": [
    "A = A.cpu()\n",
    "B = B.cpu()"
   ]
  },
  {
   "cell_type": "code",
   "execution_count": 32,
   "metadata": {},
   "outputs": [
    {
     "name": "stdout",
     "output_type": "stream",
     "text": [
      "Wall time: 11min 6s\n"
     ]
    }
   ],
   "source": [
    "%%time\n",
    "for i in range(2000):\n",
    "    with torch.no_grad():\n",
    "        C = A * B"
   ]
  },
  {
   "cell_type": "code",
   "execution_count": null,
   "metadata": {},
   "outputs": [],
   "source": []
  }
 ],
 "metadata": {
  "kernelspec": {
   "display_name": "Python 3",
   "language": "python",
   "name": "python3"
  },
  "language_info": {
   "codemirror_mode": {
    "name": "ipython",
    "version": 3
   },
   "file_extension": ".py",
   "mimetype": "text/x-python",
   "name": "python",
   "nbconvert_exporter": "python",
   "pygments_lexer": "ipython3",
   "version": "3.7.3"
  }
 },
 "nbformat": 4,
 "nbformat_minor": 2
}
